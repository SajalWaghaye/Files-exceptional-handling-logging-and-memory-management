{
  "nbformat": 4,
  "nbformat_minor": 0,
  "metadata": {
    "colab": {
      "provenance": []
    },
    "kernelspec": {
      "name": "python3",
      "display_name": "Python 3"
    },
    "language_info": {
      "name": "python"
    }
  },
  "cells": [
    {
      "cell_type": "markdown",
      "source": [
        "What is the difference between interpreted and compiled language"
      ],
      "metadata": {
        "id": "ejabVVkrooBn"
      }
    },
    {
      "cell_type": "markdown",
      "source": [
        "Compiled Languages\n",
        "\n",
        "Process: In compiled languages (like C++, Java), the entire source code is translated into machine code (instructions that the computer's processor can directly understand) before execution. This translation is done by a compiler.\n",
        "Execution: Once compiled, the resulting executable file can be run directly by the operating system, without needing the original source code or a separate interpreter.\n",
        "Advantages: Generally faster execution speed because the code is already in machine-readable format. Better for performance-critical applications.\n",
        "Disadvantages: Requires a separate compilation step before running the program. Changes to the code require recompilation.\n",
        "Interpreted Languages\n",
        "\n",
        "Process: In interpreted languages (like Python, JavaScript, R - which are often used in Colab), the source code is executed line by line by an interpreter. The interpreter reads each line of code, translates it into machine code, and then executes it immediately.\n",
        "Execution: No separate compilation step is needed. You can write and run code interactively, making it suitable for rapid prototyping and experimentation, which are common in Colab notebooks.\n",
        "Advantages: Easier to debug and test because you can see the results of each line of code as it is executed. More flexible and portable across different operating systems.\n",
        "Disadvantages: Generally slower execution speed because of the overhead of interpretation. Less efficient for computationally intensive tasks.\n",
        "In the context of your Colab notebook:\n",
        "\n",
        "You are primarily working with Python, which is an interpreted language. This means that when you run your code cells in Colab, the Python interpreter executes them line by line.\n",
        "The IPython library you imported provides interactive features for Python, enhancing your experience in Colab.\n",
        "I hope this explanation helps! Let me know if you have any other questions.\n",
        "\n",
        "In summary:\n",
        "\n",
        "Feature\tCompiled Language\tInterpreted Language\n",
        "Translation\tEntire code translated before execution\tCode translated line by line during execution\n",
        "Execution\tDirect execution by the operating system\tExecution by an interpreter\n",
        "Speed\tGenerally faster\tGenerally slower\n",
        "Flexibility\tLess flexible\tMore flexible\n",
        "Examples\tC++, Java\tPython, JavaScript,"
      ],
      "metadata": {
        "id": "sYfiTFbgo1zz"
      }
    },
    {
      "cell_type": "markdown",
      "source": [
        " What is exception handling in Python"
      ],
      "metadata": {
        "id": "bo1r2wyipd29"
      }
    },
    {
      "cell_type": "code",
      "source": [
        "try:\n",
        "    result = 10 / 0  # This will raise a ZeroDivisionError\n",
        "except ZeroDivisionError:\n",
        "    print(\"Error: Division by zero\")\n",
        "else:\n",
        "    print(\"Result:\", result)\n",
        "finally:\n",
        "    print(\"This always executes\")"
      ],
      "metadata": {
        "colab": {
          "base_uri": "https://localhost:8080/"
        },
        "id": "cdhA-lqFpla7",
        "outputId": "2bf7072c-9264-4b33-ebcf-c4c774d6ec7c"
      },
      "execution_count": null,
      "outputs": [
        {
          "output_type": "stream",
          "name": "stdout",
          "text": [
            "Error: Division by zero\n",
            "This always executes\n"
          ]
        }
      ]
    },
    {
      "cell_type": "markdown",
      "source": [
        "What is the purpose of the finally block in exception handling"
      ],
      "metadata": {
        "id": "ikPtun0Lpyzy"
      }
    },
    {
      "cell_type": "code",
      "source": [
        "try:\n",
        "    file = open(\"my_file.txt\", \"w\")\n",
        "    # ... Perform file operations ...\n",
        "except IOError:\n",
        "    print(\"Error: Could not open or write to file\")\n",
        "finally:\n",
        "    file.close()  # Ensure file is closed, even if an error occurred\n",
        "    print(\"File closed\")"
      ],
      "metadata": {
        "colab": {
          "base_uri": "https://localhost:8080/"
        },
        "id": "k1wKGAQYqGAi",
        "outputId": "185e25e2-1757-4ed8-e784-e7028720623b"
      },
      "execution_count": null,
      "outputs": [
        {
          "output_type": "stream",
          "name": "stdout",
          "text": [
            "File closed\n"
          ]
        }
      ]
    },
    {
      "cell_type": "markdown",
      "source": [
        "What is logging in Python"
      ],
      "metadata": {
        "id": "bGdZnZxSqJz_"
      }
    },
    {
      "cell_type": "code",
      "source": [
        "import logging\n",
        "\n",
        "# Configure the logging system\n",
        "logging.basicConfig(filename='my_log.log', level=logging.DEBUG)\n",
        "\n",
        "# Create a logger\n",
        "logger = logging.getLogger(__name__)\n",
        "\n",
        "# Log messages\n",
        "logger.debug('This is a debug message')\n",
        "logger.info('This is an info message')\n",
        "logger.warning('This is a warning message')\n",
        "logger.error('This is an error message')\n",
        "logger.critical('This is a critical message')"
      ],
      "metadata": {
        "colab": {
          "base_uri": "https://localhost:8080/"
        },
        "id": "MzcV0QX2qaiz",
        "outputId": "95e2aa30-fa0b-4542-92b3-80040cdc083c"
      },
      "execution_count": null,
      "outputs": [
        {
          "output_type": "stream",
          "name": "stderr",
          "text": [
            "WARNING:__main__:This is a warning message\n",
            "ERROR:__main__:This is an error message\n",
            "CRITICAL:__main__:This is a critical message\n"
          ]
        }
      ]
    },
    {
      "cell_type": "markdown",
      "source": [
        "What is the significance of the __del__ method in Python"
      ],
      "metadata": {
        "id": "gMmlPK4AqfM_"
      }
    },
    {
      "cell_type": "code",
      "source": [
        "class MyFile:\n",
        "    def __init__(self, filename):\n",
        "        self.filename = filename\n",
        "        self.file = open(filename, \"w\")\n",
        "\n",
        "    def __del__(self):\n",
        "        self.file.close()\n",
        "        print(f\"File '{self.filename}' closed\")"
      ],
      "metadata": {
        "id": "h6UOqbKJqk5b"
      },
      "execution_count": null,
      "outputs": []
    },
    {
      "cell_type": "markdown",
      "source": [
        "What is the difference between import and from ... import in Python"
      ],
      "metadata": {
        "id": "JJgPH0kOqwYZ"
      }
    },
    {
      "cell_type": "code",
      "source": [
        "import math\n",
        "\n",
        "result = math.sqrt(25)  # Accessing the sqrt function from the math module"
      ],
      "metadata": {
        "id": "oqwcQuSOqxnS"
      },
      "execution_count": null,
      "outputs": []
    },
    {
      "cell_type": "code",
      "source": [
        "from math import sqrt\n",
        "\n",
        "result = sqrt(25)  # Accessing the sqrt function directly"
      ],
      "metadata": {
        "id": "V2j7rIlkq-Ra"
      },
      "execution_count": null,
      "outputs": []
    },
    {
      "cell_type": "markdown",
      "source": [
        " How can you handle multiple exceptions in Python"
      ],
      "metadata": {
        "id": "bLGK5dzirBQN"
      }
    },
    {
      "cell_type": "code",
      "source": [
        "try:\n",
        "       # Code that might raise exceptions\n",
        "   except (TypeError, ValueError, ZeroDivisionError) as e:\n",
        "       print(f\"An error occurred: {e}\")"
      ],
      "metadata": {
        "colab": {
          "base_uri": "https://localhost:8080/",
          "height": 106
        },
        "id": "I0FMmwcqrGmW",
        "outputId": "e1636ced-9eef-4744-9a32-f98d8766f4b6"
      },
      "execution_count": null,
      "outputs": [
        {
          "output_type": "error",
          "ename": "SyntaxError",
          "evalue": "invalid syntax (<ipython-input-10-87f3367f0326>, line 3)",
          "traceback": [
            "\u001b[0;36m  File \u001b[0;32m\"<ipython-input-10-87f3367f0326>\"\u001b[0;36m, line \u001b[0;32m3\u001b[0m\n\u001b[0;31m    except (TypeError, ValueError, ZeroDivisionError) as e:\u001b[0m\n\u001b[0m    ^\u001b[0m\n\u001b[0;31mSyntaxError\u001b[0m\u001b[0;31m:\u001b[0m invalid syntax\n"
          ]
        }
      ]
    },
    {
      "cell_type": "code",
      "source": [
        "try:\n",
        "       # Code that might raise exceptions\n",
        "   except TypeError as e:\n",
        "       print(f\"Type error: {e}\")\n",
        "   except ValueError as e:\n",
        "       print(f\"Value error: {e}\")\n",
        "   except ZeroDivisionError as e:\n",
        "       print(f\"Division by zero error: {e}\")"
      ],
      "metadata": {
        "colab": {
          "base_uri": "https://localhost:8080/",
          "height": 106
        },
        "id": "xD-_BudHrVZm",
        "outputId": "062f519b-6478-4bdc-c920-a46396ec7cfd"
      },
      "execution_count": null,
      "outputs": [
        {
          "output_type": "error",
          "ename": "SyntaxError",
          "evalue": "invalid syntax (<ipython-input-11-40e03192b75a>, line 3)",
          "traceback": [
            "\u001b[0;36m  File \u001b[0;32m\"<ipython-input-11-40e03192b75a>\"\u001b[0;36m, line \u001b[0;32m3\u001b[0m\n\u001b[0;31m    except TypeError as e:\u001b[0m\n\u001b[0m    ^\u001b[0m\n\u001b[0;31mSyntaxError\u001b[0m\u001b[0;31m:\u001b[0m invalid syntax\n"
          ]
        }
      ]
    },
    {
      "cell_type": "code",
      "source": [
        "try:\n",
        "       # Code that might raise exceptions\n",
        "   except Exception as e:\n",
        "       print(f\"A general error occurred: {e}\")"
      ],
      "metadata": {
        "colab": {
          "base_uri": "https://localhost:8080/",
          "height": 106
        },
        "id": "jgC42OlyrbAD",
        "outputId": "b57f3644-129e-4592-8cc5-5c10dcf6816d"
      },
      "execution_count": null,
      "outputs": [
        {
          "output_type": "error",
          "ename": "SyntaxError",
          "evalue": "invalid syntax (<ipython-input-12-7fa83b1f3b38>, line 3)",
          "traceback": [
            "\u001b[0;36m  File \u001b[0;32m\"<ipython-input-12-7fa83b1f3b38>\"\u001b[0;36m, line \u001b[0;32m3\u001b[0m\n\u001b[0;31m    except Exception as e:\u001b[0m\n\u001b[0m    ^\u001b[0m\n\u001b[0;31mSyntaxError\u001b[0m\u001b[0;31m:\u001b[0m invalid syntax\n"
          ]
        }
      ]
    },
    {
      "cell_type": "code",
      "source": [
        "try:\n",
        "       # Code that might raise exceptions\n",
        "   except (TypeError, ValueError) as e:\n",
        "       print(f\"An error occurred: {e}\")\n",
        "   else:\n",
        "       print(\"Code executed successfully\")"
      ],
      "metadata": {
        "colab": {
          "base_uri": "https://localhost:8080/",
          "height": 106
        },
        "id": "hFVtj8R0reH1",
        "outputId": "e563daf2-91ff-435f-eb6d-9e98f361a6b6"
      },
      "execution_count": null,
      "outputs": [
        {
          "output_type": "error",
          "ename": "SyntaxError",
          "evalue": "invalid syntax (<ipython-input-13-8898d605bd56>, line 3)",
          "traceback": [
            "\u001b[0;36m  File \u001b[0;32m\"<ipython-input-13-8898d605bd56>\"\u001b[0;36m, line \u001b[0;32m3\u001b[0m\n\u001b[0;31m    except (TypeError, ValueError) as e:\u001b[0m\n\u001b[0m    ^\u001b[0m\n\u001b[0;31mSyntaxError\u001b[0m\u001b[0;31m:\u001b[0m invalid syntax\n"
          ]
        }
      ]
    },
    {
      "cell_type": "code",
      "source": [
        "try:\n",
        "       # Code that might raise exceptions\n",
        "   except (TypeError, ValueError) as e:\n",
        "       print(f\"An error occurred: {e}\")\n",
        "   finally:\n",
        "       print(\"Cleanup actions performed\")"
      ],
      "metadata": {
        "colab": {
          "base_uri": "https://localhost:8080/",
          "height": 106
        },
        "id": "e7hNQ_xWrizU",
        "outputId": "b38fd3d1-1ee1-43c0-b368-75654e5ab03f"
      },
      "execution_count": null,
      "outputs": [
        {
          "output_type": "error",
          "ename": "SyntaxError",
          "evalue": "invalid syntax (<ipython-input-14-31a891846b49>, line 3)",
          "traceback": [
            "\u001b[0;36m  File \u001b[0;32m\"<ipython-input-14-31a891846b49>\"\u001b[0;36m, line \u001b[0;32m3\u001b[0m\n\u001b[0;31m    except (TypeError, ValueError) as e:\u001b[0m\n\u001b[0m    ^\u001b[0m\n\u001b[0;31mSyntaxError\u001b[0m\u001b[0;31m:\u001b[0m invalid syntax\n"
          ]
        }
      ]
    },
    {
      "cell_type": "markdown",
      "source": [
        "\n",
        "\n",
        "What is the purpose of the with statement when handling files in Python"
      ],
      "metadata": {
        "id": "f-uf1N8IrmWb"
      }
    },
    {
      "cell_type": "code",
      "source": [
        "with open(\"my_file.txt\", \"w\") as file:\n",
        "    file.write(\"Hello, world!\\n\")\n",
        "    # ... other file operations ...\n",
        "\n",
        "# File is automatically closed here"
      ],
      "metadata": {
        "id": "lEmmj3d0r50b"
      },
      "execution_count": null,
      "outputs": []
    },
    {
      "cell_type": "markdown",
      "source": [
        "What is the difference between multithreading and multiprocessing"
      ],
      "metadata": {
        "id": "7bcmA_v5r-EW"
      }
    },
    {
      "cell_type": "code",
      "source": [
        "# Multithreading (I/O-bound task)\n",
        "import threading\n",
        "import time\n",
        "\n",
        "def task():\n",
        "    time.sleep(2)  # Simulate I/O operation\n",
        "    print(\"Thread completed\")\n",
        "\n",
        "threads = []\n",
        "for i in range(3):\n",
        "    thread = threading.Thread(target=task)\n",
        "    threads.append(thread)\n",
        "    thread.start()\n",
        "\n",
        "for thread in threads:\n",
        "    thread.join()\n",
        "\n",
        "# Multiprocessing (CPU-bound task)\n",
        "import multiprocessing\n",
        "\n",
        "def task():\n",
        "    # Perform heavy computation\n",
        "    print(\"Process completed\")\n",
        "\n",
        "processes = []\n",
        "for i in range(3):\n",
        "    process = multiprocessing.Process(target=task)\n",
        "    processes.append(process)\n",
        "    process.start()\n",
        "\n",
        "for process in processes:\n",
        "    process.join()"
      ],
      "metadata": {
        "colab": {
          "base_uri": "https://localhost:8080/"
        },
        "id": "DJynbccBsF35",
        "outputId": "b6367b15-eb47-44b1-d179-31049e0dbfb1"
      },
      "execution_count": null,
      "outputs": [
        {
          "output_type": "stream",
          "name": "stdout",
          "text": [
            "Thread completedThread completed\n",
            "\n",
            "Thread completed\n",
            "Process completed\n",
            "Process completedProcess completed\n",
            "\n"
          ]
        }
      ]
    },
    {
      "cell_type": "markdown",
      "source": [
        " What are the advantages of using logging in a program"
      ],
      "metadata": {
        "id": "Fl1SDnvpsTga"
      }
    },
    {
      "cell_type": "markdown",
      "source": [
        "Advantages of Using Logging\n",
        "\n",
        "Logging provides several benefits for developing and maintaining software, making it an essential practice for robust and reliable code:\n",
        "\n",
        "Debugging and Troubleshooting:\n",
        "\n",
        "Detailed Information: Log messages capture valuable information about program execution, such as timestamps, function calls, variable values, and error messages. This detailed information helps you understand the flow of your program and identify the source of errors or unexpected behavior.\n",
        "Reproducing Issues: Logs provide a historical record of events, allowing you to reproduce issues that occurred in the past, even if they are difficult to reproduce in a debugging environment.\n",
        "Remote Debugging: In production environments where direct debugging might not be possible, logs become crucial for diagnosing and resolving issues remotely.\n",
        "Monitoring and Performance Analysis:\n",
        "\n",
        "System Health: Logging can be used to monitor the health and performance of your application by capturing metrics and performance indicators.\n",
        "Resource Usage: You can track resource utilization, such as memory consumption, CPU usage, or network traffic, through log messages, helping you identify potential bottlenecks or performance issues.\n",
        "Trend Analysis: By analyzing logs over time, you can identify trends and patterns in your application's behavior, allowing you to make proactive improvements and optimizations.\n",
        "Auditing and Security:\n",
        "\n",
        "Security Events: Logs can record security-related events, such as login attempts, access control violations, or suspicious activities, providing an audit trail for security analysis and investigations.\n",
        "Compliance: In regulated industries, logging is often required for compliance purposes to demonstrate adherence to security standards and regulations.\n",
        "Data Integrity: Logs can help track changes to critical data, ensuring data integrity and accountability.\n",
        "Improved Code Maintainability:\n",
        "\n",
        "Understanding Code Behavior: Logs provide insights into the intended behavior of your code, making it easier for developers to understand and maintain the codebase.\n",
        "Identifying Areas for Improvement: By analyzing logs, you can identify areas of your code that might need optimization or refactoring to improve performance or maintainability.\n",
        "Facilitating Collaboration: Logs serve as a communication tool between developers, allowing them to share information about program execution and collaborate on debugging or troubleshooting efforts.\n",
        "Relevance in Colab Notebooks\n",
        "\n",
        "In Colab notebooks, logging is particularly useful for:\n",
        "\n",
        "Tracking Experiment Progress: You can use logging to record the progress of your experiments, including hyperparameter settings, model performance metrics, and other relevant information.\n",
        "Debugging Long-Running Tasks: For tasks that run for extended periods, logging provides a way to monitor their progress and identify potential issues without interrupting the execution.\n",
        "Sharing Results and Analysis: You can share log files with collaborators to facilitate the review and analysis of your experiments."
      ],
      "metadata": {
        "id": "5zUGfCi3sllG"
      }
    },
    {
      "cell_type": "markdown",
      "source": [
        " What is memory management in Python"
      ],
      "metadata": {
        "id": "8WCrBuV0svJz"
      }
    },
    {
      "cell_type": "code",
      "source": [
        "import gc\n",
        "\n",
        "# Create a large list\n",
        "data = [i for i in range(1000000)]\n",
        "\n",
        "# Delete the list\n",
        "del data\n",
        "\n",
        "# Manually trigger garbage collection\n",
        "gc.collect()"
      ],
      "metadata": {
        "colab": {
          "base_uri": "https://localhost:8080/"
        },
        "id": "cVbOTI7_s8D1",
        "outputId": "b7d8f9ae-491d-456a-d3b4-6ca374c9f9bf"
      },
      "execution_count": null,
      "outputs": [
        {
          "output_type": "execute_result",
          "data": {
            "text/plain": [
              "0"
            ]
          },
          "metadata": {},
          "execution_count": 17
        }
      ]
    },
    {
      "cell_type": "markdown",
      "source": [
        "What are the basic steps involved in exception handling in Python"
      ],
      "metadata": {
        "id": "9fdrH1VutGN2"
      }
    },
    {
      "cell_type": "code",
      "source": [
        "try:\n",
        "    file = open(\"my_file.txt\", \"w\")\n",
        "    # ... Perform file operations ...\n",
        "except IOError:\n",
        "    print(\"Error: Could not open or write to file\")\n",
        "finally:\n",
        "    file.close()  # Ensure file is closed, even if an error occurred\n",
        "    print(\"File closed\")"
      ],
      "metadata": {
        "colab": {
          "base_uri": "https://localhost:8080/"
        },
        "id": "SNPyRr05tdtJ",
        "outputId": "a747876a-5e15-4598-ba28-d32eb1140303"
      },
      "execution_count": null,
      "outputs": [
        {
          "output_type": "stream",
          "name": "stdout",
          "text": [
            "File closed\n"
          ]
        }
      ]
    },
    {
      "cell_type": "markdown",
      "source": [
        "What are the basic steps involved in exception handling in Python"
      ],
      "metadata": {
        "id": "jDaNtOUBt1gn"
      }
    },
    {
      "cell_type": "code",
      "source": [
        "try:\n",
        "       # Code that might raise exceptions"
      ],
      "metadata": {
        "colab": {
          "base_uri": "https://localhost:8080/",
          "height": 106
        },
        "id": "wlo-x7SKt3UH",
        "outputId": "b63807ef-e167-4364-9cbc-0ea79525c484"
      },
      "execution_count": null,
      "outputs": [
        {
          "output_type": "error",
          "ename": "SyntaxError",
          "evalue": "incomplete input (<ipython-input-20-66f3fe15a59a>, line 2)",
          "traceback": [
            "\u001b[0;36m  File \u001b[0;32m\"<ipython-input-20-66f3fe15a59a>\"\u001b[0;36m, line \u001b[0;32m2\u001b[0m\n\u001b[0;31m    # Code that might raise exceptions\u001b[0m\n\u001b[0m                                      ^\u001b[0m\n\u001b[0;31mSyntaxError\u001b[0m\u001b[0;31m:\u001b[0m incomplete input\n"
          ]
        }
      ]
    },
    {
      "cell_type": "code",
      "source": [
        "except IOError:\n",
        "       print(\"Error: Could not open or write to file\")"
      ],
      "metadata": {
        "colab": {
          "base_uri": "https://localhost:8080/",
          "height": 106
        },
        "id": "H8jQyv3Et6hc",
        "outputId": "298b35c1-4784-45ef-f72c-95205b863b4c"
      },
      "execution_count": null,
      "outputs": [
        {
          "output_type": "error",
          "ename": "SyntaxError",
          "evalue": "invalid syntax (<ipython-input-21-6bac86623906>, line 1)",
          "traceback": [
            "\u001b[0;36m  File \u001b[0;32m\"<ipython-input-21-6bac86623906>\"\u001b[0;36m, line \u001b[0;32m1\u001b[0m\n\u001b[0;31m    except IOError:\u001b[0m\n\u001b[0m    ^\u001b[0m\n\u001b[0;31mSyntaxError\u001b[0m\u001b[0;31m:\u001b[0m invalid syntax\n"
          ]
        }
      ]
    },
    {
      "cell_type": "code",
      "source": [
        "finally:\n",
        "       file.close()  # Ensure file is closed, even if an error occurred\n",
        "       print(\"File closed\")"
      ],
      "metadata": {
        "colab": {
          "base_uri": "https://localhost:8080/",
          "height": 106
        },
        "id": "tjMpeV-yuAgH",
        "outputId": "994e7928-e9ed-4f0f-b731-f7a0429c479d"
      },
      "execution_count": null,
      "outputs": [
        {
          "output_type": "error",
          "ename": "SyntaxError",
          "evalue": "invalid syntax (<ipython-input-22-956f12cfd9a0>, line 1)",
          "traceback": [
            "\u001b[0;36m  File \u001b[0;32m\"<ipython-input-22-956f12cfd9a0>\"\u001b[0;36m, line \u001b[0;32m1\u001b[0m\n\u001b[0;31m    finally:\u001b[0m\n\u001b[0m    ^\u001b[0m\n\u001b[0;31mSyntaxError\u001b[0m\u001b[0;31m:\u001b[0m invalid syntax\n"
          ]
        }
      ]
    },
    {
      "cell_type": "markdown",
      "source": [
        "\n",
        "Why is memory management important in Python"
      ],
      "metadata": {
        "id": "Mbn15dlEuLZE"
      }
    },
    {
      "cell_type": "markdown",
      "source": [
        "Efficient Resource Utilization:\n",
        "Programs need memory to store data and instructions. Efficient memory management ensures that available memory is used optimally, preventing unnecessary resource consumption. This is particularly important in resource-constrained environments or when dealing with large datasets. In your code, you have demonstrated one way of efficient memory management by deleting the large list 'data' after it is no longer needed and manually triggering garbage collection using gc.collect().\n",
        "Preventing Memory Leaks:\n",
        "Memory leaks occur when a program allocates memory but fails to release it when it's no longer needed. This can lead to gradual depletion of available memory, potentially causing the program to crash or the system to become unstable. By managing memory effectively, Python's garbage collector helps in automatically reclaiming unused memory, but still, sometimes it is necessary to release the memory manually as you did.\n",
        "Improved Performance:\n",
        "Proper memory management can significantly improve program performance. When memory is managed efficiently, programs can access data faster, reducing execution time. This is important for applications where performance is critical, such as real-time systems or data-intensive computations.\n",
        "Preventing Program Crashes:\n",
        "When a program runs out of memory, it can crash or become unresponsive. Memory management techniques, such as garbage collection, help prevent these crashes by reclaiming unused memory and making it available for other tasks.\n",
        "Enhanced System Stability:\n",
        "By preventing memory leaks and ensuring efficient memory utilization, you contribute to the overall stability of the system. Programs that manage memory well are less likely to cause system-wide issues or instability.\n",
        "In the context of your Colab notebook:\n",
        "\n",
        "While Colab provides a managed environment, understanding memory management principles is still valuable for writing efficient and reliable code.\n",
        "By using techniques like deleting unused objects and manually triggering garbage collection (as you demonstrated with gc.collect()), you can optimize memory usage and improve the performance of your notebooks, especially when working with large datasets."
      ],
      "metadata": {
        "id": "9t7l-QbIuXxw"
      }
    },
    {
      "cell_type": "markdown",
      "source": [
        "What is the role of try and except in exception handling"
      ],
      "metadata": {
        "id": "Y8DCf-gxuq02"
      }
    },
    {
      "cell_type": "code",
      "source": [
        "try:\n",
        "       file = open(\"my_file.txt\", \"w\")\n",
        "       # ... Perform file operations ...\n",
        "   except IOError:\n",
        "       print(\"Error: Could not open or write to file\")"
      ],
      "metadata": {
        "colab": {
          "base_uri": "https://localhost:8080/",
          "height": 106
        },
        "id": "Ku8Zwt85usmV",
        "outputId": "ba31faaf-472e-4cc1-e5e6-2a34cb8fd71d"
      },
      "execution_count": null,
      "outputs": [
        {
          "output_type": "error",
          "ename": "IndentationError",
          "evalue": "unindent does not match any outer indentation level (<tokenize>, line 4)",
          "traceback": [
            "\u001b[0;36m  File \u001b[0;32m\"<tokenize>\"\u001b[0;36m, line \u001b[0;32m4\u001b[0m\n\u001b[0;31m    except IOError:\u001b[0m\n\u001b[0m    ^\u001b[0m\n\u001b[0;31mIndentationError\u001b[0m\u001b[0;31m:\u001b[0m unindent does not match any outer indentation level\n"
          ]
        }
      ]
    },
    {
      "cell_type": "code",
      "source": [
        "except IOError:\n",
        "       print(\"Error: Could not open or write to file\")"
      ],
      "metadata": {
        "colab": {
          "base_uri": "https://localhost:8080/",
          "height": 106
        },
        "id": "yawFshmguy3o",
        "outputId": "b4eb2fe0-4dd7-4053-92d0-d1ec42086a1a"
      },
      "execution_count": null,
      "outputs": [
        {
          "output_type": "error",
          "ename": "SyntaxError",
          "evalue": "invalid syntax (<ipython-input-25-6bac86623906>, line 1)",
          "traceback": [
            "\u001b[0;36m  File \u001b[0;32m\"<ipython-input-25-6bac86623906>\"\u001b[0;36m, line \u001b[0;32m1\u001b[0m\n\u001b[0;31m    except IOError:\u001b[0m\n\u001b[0m    ^\u001b[0m\n\u001b[0;31mSyntaxError\u001b[0m\u001b[0;31m:\u001b[0m invalid syntax\n"
          ]
        }
      ]
    },
    {
      "cell_type": "markdown",
      "source": [
        "How does Python's garbage collection system work"
      ],
      "metadata": {
        "id": "cNivV4dlux0n"
      }
    },
    {
      "cell_type": "code",
      "source": [
        "x = [1, 2, 3]  # Reference count of the list is 1\n",
        "  y = x         # Reference count becomes 2 (x and y point to the same list)\n",
        "  del x         # Reference count decrements to 1 (only y points to it)\n",
        "  del y         # Reference count becomes 0, garbage collector reclaims memory"
      ],
      "metadata": {
        "colab": {
          "base_uri": "https://localhost:8080/",
          "height": 106
        },
        "id": "5GTChddFvJsR",
        "outputId": "6b9349da-7de0-40dd-a9e8-5d7f03467e73"
      },
      "execution_count": null,
      "outputs": [
        {
          "output_type": "error",
          "ename": "IndentationError",
          "evalue": "unexpected indent (<ipython-input-26-964c2d8e832f>, line 2)",
          "traceback": [
            "\u001b[0;36m  File \u001b[0;32m\"<ipython-input-26-964c2d8e832f>\"\u001b[0;36m, line \u001b[0;32m2\u001b[0m\n\u001b[0;31m    y = x         # Reference count becomes 2 (x and y point to the same list)\u001b[0m\n\u001b[0m    ^\u001b[0m\n\u001b[0;31mIndentationError\u001b[0m\u001b[0;31m:\u001b[0m unexpected indent\n"
          ]
        }
      ]
    },
    {
      "cell_type": "markdown",
      "source": [
        "What is the purpose of the else block in exception handlin"
      ],
      "metadata": {
        "id": "K3SnZZFSvXcn"
      }
    },
    {
      "cell_type": "code",
      "source": [
        "try:\n",
        "    result = 10 / numerator\n",
        "except ZeroDivisionError:\n",
        "    print(\"Error: Division by zero\")\n",
        "else:\n",
        "    print(\"Result:\", result)\n",
        "finally:\n",
        "    print(\"This always executes\")"
      ],
      "metadata": {
        "colab": {
          "base_uri": "https://localhost:8080/",
          "height": 228
        },
        "id": "dYMCxS4Xvl35",
        "outputId": "567ba196-9413-43ea-f0c9-c8b5ecce9e1f"
      },
      "execution_count": null,
      "outputs": [
        {
          "output_type": "stream",
          "name": "stdout",
          "text": [
            "This always executes\n"
          ]
        },
        {
          "output_type": "error",
          "ename": "NameError",
          "evalue": "name 'numerator' is not defined",
          "traceback": [
            "\u001b[0;31m---------------------------------------------------------------------------\u001b[0m",
            "\u001b[0;31mNameError\u001b[0m                                 Traceback (most recent call last)",
            "\u001b[0;32m<ipython-input-27-e256b4b4a693>\u001b[0m in \u001b[0;36m<cell line: 1>\u001b[0;34m()\u001b[0m\n\u001b[1;32m      1\u001b[0m \u001b[0;32mtry\u001b[0m\u001b[0;34m:\u001b[0m\u001b[0;34m\u001b[0m\u001b[0;34m\u001b[0m\u001b[0m\n\u001b[0;32m----> 2\u001b[0;31m     \u001b[0mresult\u001b[0m \u001b[0;34m=\u001b[0m \u001b[0;36m10\u001b[0m \u001b[0;34m/\u001b[0m \u001b[0mnumerator\u001b[0m\u001b[0;34m\u001b[0m\u001b[0;34m\u001b[0m\u001b[0m\n\u001b[0m\u001b[1;32m      3\u001b[0m \u001b[0;32mexcept\u001b[0m \u001b[0mZeroDivisionError\u001b[0m\u001b[0;34m:\u001b[0m\u001b[0;34m\u001b[0m\u001b[0;34m\u001b[0m\u001b[0m\n\u001b[1;32m      4\u001b[0m     \u001b[0mprint\u001b[0m\u001b[0;34m(\u001b[0m\u001b[0;34m\"Error: Division by zero\"\u001b[0m\u001b[0;34m)\u001b[0m\u001b[0;34m\u001b[0m\u001b[0;34m\u001b[0m\u001b[0m\n\u001b[1;32m      5\u001b[0m \u001b[0;32melse\u001b[0m\u001b[0;34m:\u001b[0m\u001b[0;34m\u001b[0m\u001b[0;34m\u001b[0m\u001b[0m\n",
            "\u001b[0;31mNameError\u001b[0m: name 'numerator' is not defined"
          ]
        }
      ]
    },
    {
      "cell_type": "markdown",
      "source": [
        " What are the common logging levels in Python"
      ],
      "metadata": {
        "id": "XAKkUf55vppv"
      }
    },
    {
      "cell_type": "code",
      "source": [
        "logging.basicConfig(filename='my_log.log', level=logging.DEBUG)"
      ],
      "metadata": {
        "id": "GIoxQCHUvxKB"
      },
      "execution_count": null,
      "outputs": []
    },
    {
      "cell_type": "markdown",
      "source": [
        "What is the difference between os.fork() and multiprocessing in Python"
      ],
      "metadata": {
        "id": "dEk06lERwCws"
      }
    },
    {
      "cell_type": "code",
      "source": [
        "import os\n",
        "\n",
        "pid = os.fork()\n",
        "\n",
        "if pid == 0:\n",
        "    print"
      ],
      "metadata": {
        "id": "p9-vuw8uwMYF"
      },
      "execution_count": null,
      "outputs": []
    },
    {
      "cell_type": "code",
      "source": [
        "import multiprocessing\n",
        "\n",
        "def worker():\n",
        "    print(\"Worker process\")\n",
        "\n",
        "if __name__ == '__main__':\n",
        "    process = multiprocessing.Process(target=worker)\n",
        "    process.start()\n",
        "    process.join()"
      ],
      "metadata": {
        "colab": {
          "base_uri": "https://localhost:8080/"
        },
        "id": "sPMmuqjMwSR2",
        "outputId": "634ecdac-b9d0-45ce-c4e8-f03e501e7ad9"
      },
      "execution_count": null,
      "outputs": [
        {
          "output_type": "stream",
          "name": "stdout",
          "text": [
            "Worker process\n"
          ]
        }
      ]
    },
    {
      "cell_type": "markdown",
      "source": [
        " What is the importance of closing a file in Python"
      ],
      "metadata": {
        "id": "RQqizDsAwbWu"
      }
    },
    {
      "cell_type": "code",
      "source": [
        "file = open(\"my_file.txt\", \"w\")\n",
        "   # ... Perform file operations ...\n",
        "   file.close()"
      ],
      "metadata": {
        "colab": {
          "base_uri": "https://localhost:8080/",
          "height": 106
        },
        "id": "heuIRonuwe8_",
        "outputId": "0b3124e1-9453-4bb7-ab82-46d8c67d697e"
      },
      "execution_count": null,
      "outputs": [
        {
          "output_type": "error",
          "ename": "IndentationError",
          "evalue": "unexpected indent (<ipython-input-3-67c766660441>, line 3)",
          "traceback": [
            "\u001b[0;36m  File \u001b[0;32m\"<ipython-input-3-67c766660441>\"\u001b[0;36m, line \u001b[0;32m3\u001b[0m\n\u001b[0;31m    file.close()\u001b[0m\n\u001b[0m    ^\u001b[0m\n\u001b[0;31mIndentationError\u001b[0m\u001b[0;31m:\u001b[0m unexpected indent\n"
          ]
        }
      ]
    },
    {
      "cell_type": "code",
      "source": [
        "with open(\"my_file.txt\", \"w\") as file:\n",
        "       # ... Perform file operations ...\n",
        "   # File is automatically closed here"
      ],
      "metadata": {
        "colab": {
          "base_uri": "https://localhost:8080/",
          "height": 106
        },
        "id": "AeJvX2JuwkRK",
        "outputId": "289330e2-57e0-42e0-d97f-f7f818baee09"
      },
      "execution_count": null,
      "outputs": [
        {
          "output_type": "error",
          "ename": "SyntaxError",
          "evalue": "incomplete input (<ipython-input-1-da5b878b881d>, line 3)",
          "traceback": [
            "\u001b[0;36m  File \u001b[0;32m\"<ipython-input-1-da5b878b881d>\"\u001b[0;36m, line \u001b[0;32m3\u001b[0m\n\u001b[0;31m    # File is automatically closed here\u001b[0m\n\u001b[0m                                       ^\u001b[0m\n\u001b[0;31mSyntaxError\u001b[0m\u001b[0;31m:\u001b[0m incomplete input\n"
          ]
        }
      ]
    },
    {
      "cell_type": "markdown",
      "source": [
        "What is the difference between file.read() and file.readline() in Python"
      ],
      "metadata": {
        "id": "X2c8suebw-9W"
      }
    },
    {
      "cell_type": "code",
      "source": [
        "with open(\"my_file.txt\", \"r\") as file:\n",
        "    content = file.read()\n",
        "    print(content)  # Prints the entire file content"
      ],
      "metadata": {
        "colab": {
          "base_uri": "https://localhost:8080/",
          "height": 176
        },
        "id": "ypQQubeSxCbf",
        "outputId": "f80456c1-ef04-4de8-9ae7-c75adc088fd3"
      },
      "execution_count": null,
      "outputs": [
        {
          "output_type": "error",
          "ename": "FileNotFoundError",
          "evalue": "[Errno 2] No such file or directory: 'my_file.txt'",
          "traceback": [
            "\u001b[0;31m---------------------------------------------------------------------------\u001b[0m",
            "\u001b[0;31mFileNotFoundError\u001b[0m                         Traceback (most recent call last)",
            "\u001b[0;32m<ipython-input-2-d7121415adc6>\u001b[0m in \u001b[0;36m<cell line: 1>\u001b[0;34m()\u001b[0m\n\u001b[0;32m----> 1\u001b[0;31m \u001b[0;32mwith\u001b[0m \u001b[0mopen\u001b[0m\u001b[0;34m(\u001b[0m\u001b[0;34m\"my_file.txt\"\u001b[0m\u001b[0;34m,\u001b[0m \u001b[0;34m\"r\"\u001b[0m\u001b[0;34m)\u001b[0m \u001b[0;32mas\u001b[0m \u001b[0mfile\u001b[0m\u001b[0;34m:\u001b[0m\u001b[0;34m\u001b[0m\u001b[0;34m\u001b[0m\u001b[0m\n\u001b[0m\u001b[1;32m      2\u001b[0m     \u001b[0mcontent\u001b[0m \u001b[0;34m=\u001b[0m \u001b[0mfile\u001b[0m\u001b[0;34m.\u001b[0m\u001b[0mread\u001b[0m\u001b[0;34m(\u001b[0m\u001b[0;34m)\u001b[0m\u001b[0;34m\u001b[0m\u001b[0;34m\u001b[0m\u001b[0m\n\u001b[1;32m      3\u001b[0m     \u001b[0mprint\u001b[0m\u001b[0;34m(\u001b[0m\u001b[0mcontent\u001b[0m\u001b[0;34m)\u001b[0m  \u001b[0;31m# Prints the entire file content\u001b[0m\u001b[0;34m\u001b[0m\u001b[0;34m\u001b[0m\u001b[0m\n",
            "\u001b[0;31mFileNotFoundError\u001b[0m: [Errno 2] No such file or directory: 'my_file.txt'"
          ]
        }
      ]
    },
    {
      "cell_type": "code",
      "source": [
        "with open(\"my_file.txt\", \"r\") as file:\n",
        "    line = file.readline()\n",
        "    print(line)  # Prints the first line of the file"
      ],
      "metadata": {
        "colab": {
          "base_uri": "https://localhost:8080/",
          "height": 176
        },
        "id": "ekZXJZ0BxIZQ",
        "outputId": "0b918562-f6c2-40bd-f559-7adf7b64f628"
      },
      "execution_count": null,
      "outputs": [
        {
          "output_type": "error",
          "ename": "FileNotFoundError",
          "evalue": "[Errno 2] No such file or directory: 'my_file.txt'",
          "traceback": [
            "\u001b[0;31m---------------------------------------------------------------------------\u001b[0m",
            "\u001b[0;31mFileNotFoundError\u001b[0m                         Traceback (most recent call last)",
            "\u001b[0;32m<ipython-input-4-23c582c097cb>\u001b[0m in \u001b[0;36m<cell line: 1>\u001b[0;34m()\u001b[0m\n\u001b[0;32m----> 1\u001b[0;31m \u001b[0;32mwith\u001b[0m \u001b[0mopen\u001b[0m\u001b[0;34m(\u001b[0m\u001b[0;34m\"my_file.txt\"\u001b[0m\u001b[0;34m,\u001b[0m \u001b[0;34m\"r\"\u001b[0m\u001b[0;34m)\u001b[0m \u001b[0;32mas\u001b[0m \u001b[0mfile\u001b[0m\u001b[0;34m:\u001b[0m\u001b[0;34m\u001b[0m\u001b[0;34m\u001b[0m\u001b[0m\n\u001b[0m\u001b[1;32m      2\u001b[0m     \u001b[0mline\u001b[0m \u001b[0;34m=\u001b[0m \u001b[0mfile\u001b[0m\u001b[0;34m.\u001b[0m\u001b[0mreadline\u001b[0m\u001b[0;34m(\u001b[0m\u001b[0;34m)\u001b[0m\u001b[0;34m\u001b[0m\u001b[0;34m\u001b[0m\u001b[0m\n\u001b[1;32m      3\u001b[0m     \u001b[0mprint\u001b[0m\u001b[0;34m(\u001b[0m\u001b[0mline\u001b[0m\u001b[0;34m)\u001b[0m  \u001b[0;31m# Prints the first line of the file\u001b[0m\u001b[0;34m\u001b[0m\u001b[0;34m\u001b[0m\u001b[0m\n",
            "\u001b[0;31mFileNotFoundError\u001b[0m: [Errno 2] No such file or directory: 'my_file.txt'"
          ]
        }
      ]
    },
    {
      "cell_type": "markdown",
      "source": [
        "What is the logging module in Python used for"
      ],
      "metadata": {
        "id": "sEPJiSziFUeJ"
      }
    },
    {
      "cell_type": "code",
      "source": [],
      "metadata": {
        "id": "FnkkFhNSGtVo"
      },
      "execution_count": null,
      "outputs": []
    },
    {
      "cell_type": "markdown",
      "source": [
        "1. Tracking Program Execution:\n",
        "\n",
        "Recording Events: You can use the logging module to record various events that happen in your program, such as function calls, variable values, and error messages. This creates a historical record of the program's execution flow, which can be invaluable for debugging and understanding the behavior of your code.\n",
        "Levels of Severity: The logging module allows you to categorize log messages based on their severity levels (debug, info, warning, error, critical). This allows you to filter logs and focus on specific types of events, making it easier to identify and analyze important information.\n",
        "2. Debugging and Troubleshooting:\n",
        "\n",
        "Identifying Errors: When your program encounters errors or unexpected behavior, the logging module can help you pinpoint the source of the issue. Log messages provide detailed context and information about the program's state when the error occurred, making it easier to diagnose and fix the problem.\n",
        "Remote Debugging: In production environments where direct debugging might be challenging, logs become a crucial tool for diagnosing issues remotely. You can access log files generated by your program to understand the circumstances surrounding errors or unexpected behavior.\n",
        "3. Monitoring and Performance Analysis:\n",
        "\n",
        "System Health: Logging can be used to monitor the health and performance of your application. You can capture metrics, performance indicators, and other relevant data through log messages, allowing you to track system behavior and detect potential issues.\n",
        "Resource Usage: Logging can help track resource utilization, such as CPU usage, memory consumption, or network traffic. This information is useful for identifying bottlenecks or performance problems in your application.\n",
        "4. Auditing and Security:\n",
        "\n",
        "Security Events: You can use the logging module to record security-related events, such as login attempts, access control violations, or suspicious activities. This provides an audit trail for security analysis and investigations.\n",
        "Compliance: Logging is often required for compliance purposes in regulated industries to demonstrate adherence to security standards and regulations.\n",
        "In the context of your Colab notebook, the logging module can be particularly useful for:\n",
        "\n",
        "Tracking Experiment Progress: You can record the progress of your machine learning experiments, including hyperparameter settings, model performance metrics, and other relevant information. This helps you understand the impact of different experimental choices and provides a valuable record for future reference.\n",
        "Debugging Long-Running Tasks: For tasks that run for extended periods, logging provides a way to monitor their progress and identify any issues that might arise without interrupting the execution."
      ],
      "metadata": {
        "id": "EBYEH0KZGbQp"
      }
    },
    {
      "cell_type": "markdown",
      "source": [
        " What is the os module in Python used for in file handling"
      ],
      "metadata": {
        "id": "IB6FirNLGhJU"
      }
    },
    {
      "cell_type": "code",
      "source": [
        "import os\n",
        "\n",
        "# Create a new directory\n",
        "os.mkdir(\"my_folder\")\n",
        "\n",
        "# Check if the directory exists\n",
        "if os.path.exists(\"my_folder\"):\n",
        "    print(\"Directory exists\")\n",
        "\n",
        "# Change the current working directory\n",
        "os.chdir(\"my_folder\")\n",
        "\n",
        "# List files and directories in the current directory\n",
        "files = os.listdir(\".\")\n",
        "print(files)\n",
        "\n",
        "# Remove the directory\n",
        "os.chdir(\"..\")  # Go back to the parent directory\n",
        "os.rmdir(\"my_folder\")"
      ],
      "metadata": {
        "colab": {
          "base_uri": "https://localhost:8080/"
        },
        "id": "jH6hU8QnGvFg",
        "outputId": "68fd42d0-88aa-4841-b85f-55c3efaf8f37"
      },
      "execution_count": null,
      "outputs": [
        {
          "output_type": "stream",
          "name": "stdout",
          "text": [
            "Directory exists\n",
            "[]\n"
          ]
        }
      ]
    },
    {
      "cell_type": "markdown",
      "source": [
        "What are the challenges associated with memory management in Python"
      ],
      "metadata": {
        "id": "olcwYexkGxmS"
      }
    },
    {
      "cell_type": "markdown",
      "source": [
        " Memory Leaks:\n",
        "\n",
        "Circular References: When objects refer to each other in a cycle, their reference counts might never reach zero, even if they are no longer accessible from the main program. This can prevent garbage collection and lead to memory leaks.\n",
        "Unintentional Object Retention: Holding on to objects for longer than necessary, such as keeping large data structures in global scope, can tie up memory that could be reused.\n",
        "2. Garbage Collection Overhead:\n",
        "\n",
        "Performance Impact: Garbage collection is an automated process but it does consume CPU cycles. In programs with frequent object creation and deletion, garbage collection can introduce performance overhead.\n",
        "Unpredictable Pauses: Garbage collection can occur at unpredictable times, causing brief pauses in program execution. This can be an issue for real-time applications or programs requiring consistent performance.\n",
        "3. Memory Fragmentation:\n",
        "\n",
        "Reduced Efficiency: As objects are allocated and deallocated, memory can become fragmented, leading to smaller, non-contiguous free blocks. This can make it difficult to allocate larger objects and reduce memory utilization efficiency.\n",
        "Performance Degradation: Memory fragmentation can slow down memory allocation operations, impacting program performance.\n",
        "4. Limited Control:\n",
        "\n",
        "Automatic Management: Python's garbage collector handles memory automatically, offering limited control over the process. While this is generally beneficial, it can be challenging in cases where fine-grained memory management is required.\n",
        "Debugging Difficulties: Memory leaks or other memory-related issues can be difficult to debug because the automatic garbage collection system hides some of the underlying memory operations.\n",
        "5. Global Interpreter Lock (GIL):\n",
        "\n",
        "Threading Limitations: The GIL in CPython (the default Python implementation) limits the parallelism of multithreaded programs. This can hinder performance gains from using multiple threads for computationally intensive tasks.\n",
        "Impact on Memory Sharing: The GIL can affect how memory is shared between threads, potentially leading to increased memory usage."
      ],
      "metadata": {
        "id": "C4JqWHiuG_Uy"
      }
    },
    {
      "cell_type": "markdown",
      "source": [
        " How do you raise an exception manually in Python"
      ],
      "metadata": {
        "id": "5t7uMXEtHJBK"
      }
    },
    {
      "cell_type": "code",
      "source": [
        "raise ExceptionType(\"Error message\")"
      ],
      "metadata": {
        "colab": {
          "base_uri": "https://localhost:8080/",
          "height": 141
        },
        "id": "GuCIQDFTHROs",
        "outputId": "053476c0-9957-4253-bc95-41a9af7674ac"
      },
      "execution_count": null,
      "outputs": [
        {
          "output_type": "error",
          "ename": "NameError",
          "evalue": "name 'ExceptionType' is not defined",
          "traceback": [
            "\u001b[0;31m---------------------------------------------------------------------------\u001b[0m",
            "\u001b[0;31mNameError\u001b[0m                                 Traceback (most recent call last)",
            "\u001b[0;32m<ipython-input-7-68b8ebb60baf>\u001b[0m in \u001b[0;36m<cell line: 1>\u001b[0;34m()\u001b[0m\n\u001b[0;32m----> 1\u001b[0;31m \u001b[0;32mraise\u001b[0m \u001b[0mExceptionType\u001b[0m\u001b[0;34m(\u001b[0m\u001b[0;34m\"Error message\"\u001b[0m\u001b[0;34m)\u001b[0m\u001b[0;34m\u001b[0m\u001b[0;34m\u001b[0m\u001b[0m\n\u001b[0m",
            "\u001b[0;31mNameError\u001b[0m: name 'ExceptionType' is not defined"
          ]
        }
      ]
    },
    {
      "cell_type": "code",
      "source": [
        "def divide(x, y):\n",
        "    if y == 0:\n",
        "        raise ZeroDivisionError(\"Cannot divide by zero\")\n",
        "    return x / y\n",
        "\n",
        "try:\n",
        "    result = divide(10, 0)\n",
        "except ZeroDivisionError as e:\n",
        "    print(f\"Error: {e}\")"
      ],
      "metadata": {
        "colab": {
          "base_uri": "https://localhost:8080/"
        },
        "id": "jkFwfVnwHUEn",
        "outputId": "d94d96cf-4eee-4579-cc5d-acc6e37ca1a4"
      },
      "execution_count": null,
      "outputs": [
        {
          "output_type": "stream",
          "name": "stdout",
          "text": [
            "Error: Cannot divide by zero\n"
          ]
        }
      ]
    },
    {
      "cell_type": "code",
      "source": [
        "class InvalidInputError(Exception):\n",
        "    pass\n",
        "\n",
        "def validate_input(value):\n",
        "    if value < 0:\n",
        "        raise InvalidInputError(\"Input value must be non-negative\")\n",
        "\n",
        "try:\n",
        "    validate_input(-5)\n",
        "except InvalidInputError as e:\n",
        "    print(f\"Error: {e}\")"
      ],
      "metadata": {
        "colab": {
          "base_uri": "https://localhost:8080/"
        },
        "id": "g157kkABHYN9",
        "outputId": "b08ccd00-8441-47a3-a243-e73b86f56ff3"
      },
      "execution_count": null,
      "outputs": [
        {
          "output_type": "stream",
          "name": "stdout",
          "text": [
            "Error: Input value must be non-negative\n"
          ]
        }
      ]
    },
    {
      "cell_type": "markdown",
      "source": [
        "Why is it important to use multithreading in certain applications"
      ],
      "metadata": {
        "id": "V_Tq5BLWHcdv"
      }
    },
    {
      "cell_type": "markdown",
      "source": [
        " Improved Responsiveness:\n",
        "\n",
        "Preventing Blocking: In single-threaded applications, if a task takes a long time to complete (e.g., waiting for network requests or user input), the entire program can become unresponsive. Multithreading allows other tasks to continue executing while one thread is blocked, keeping the application responsive.\n",
        "Enhanced User Experience: Multithreading can improve the user experience by allowing the UI to remain active while background tasks are being performed. This prevents the application from freezing or becoming sluggish.\n",
        "2. Efficient Resource Utilization:\n",
        "\n",
        "Parallelism: Multithreading enables the execution of multiple tasks concurrently, taking advantage of multi-core processors and utilizing system resources more efficiently. This can lead to faster overall execution times for certain types of applications.\n",
        "I/O-Bound Tasks: For applications that spend a lot of time waiting for I/O operations (e.g., reading files, making network requests), multithreading can significantly improve performance by allowing other threads to execute while one thread is waiting.\n",
        "3. Concurrent Execution:\n",
        "\n",
        "Simultaneous Operations: Multithreading allows different parts of an application to operate simultaneously, even if they depend on each other. This can be useful for tasks like processing data in parallel, handling multiple user requests, or performing background operations.\n",
        "Modularity and Scalability: Multithreading can improve code structure and scalability by separating tasks into independent threads. This makes the code easier to maintain and extend.\n",
        "4. Simplified Design:\n",
        "\n",
        "Asynchronous Operations: Multithreading provides a way to handle asynchronous operations without complex event handling mechanisms. This simplifies the design and implementation of applications that need to perform tasks concurrently.\n",
        "Concurrency Model: Multithreading offers a concurrency model that is relatively easy to understand and implement compared to other approaches like multiprocessing.\n",
        "In the context of your Colab notebook:\n",
        "\n",
        "The example code you provided demonstrates the use of multithreading for an I/O-bound task (simulated by time.sleep()). By creating multiple threads, the program can perform the task concurrently, potentially reducing the overall execution time. However, for CPU-bound tasks, multithreading might not provide significant performance benefits in Python due to the Global Interpreter Lock (GIL). In such cases, multiprocessing might be a better choice."
      ],
      "metadata": {
        "id": "XoAPFjJ7HmB9"
      }
    },
    {
      "cell_type": "markdown",
      "source": [
        "**Practical quection**"
      ],
      "metadata": {
        "id": "eD1DC8n1Ht9a"
      }
    },
    {
      "cell_type": "markdown",
      "source": [
        "How can you open a file for writing in Python and write a string to it"
      ],
      "metadata": {
        "id": "6qBUick1IPuj"
      }
    },
    {
      "cell_type": "code",
      "source": [
        "file = open(\"my_file.txt\", \"w\")"
      ],
      "metadata": {
        "id": "PaJNV1g_Ib7U"
      },
      "execution_count": null,
      "outputs": []
    },
    {
      "cell_type": "code",
      "source": [
        "file.write(\"This is the string I want to write.\\n\")"
      ],
      "metadata": {
        "colab": {
          "base_uri": "https://localhost:8080/"
        },
        "id": "QdGx_VrkIexj",
        "outputId": "38d7e3ed-b9d5-4312-a599-6d1d216c9570"
      },
      "execution_count": null,
      "outputs": [
        {
          "output_type": "execute_result",
          "data": {
            "text/plain": [
              "36"
            ]
          },
          "metadata": {},
          "execution_count": 11
        }
      ]
    },
    {
      "cell_type": "code",
      "source": [
        "file.close()"
      ],
      "metadata": {
        "id": "svJzW6Y7IgiH"
      },
      "execution_count": null,
      "outputs": []
    },
    {
      "cell_type": "code",
      "source": [
        "file = open(\"my_file.txt\", \"w\")\n",
        "file.write(\"This is the string I want to write.\\n\")\n",
        "file.close()"
      ],
      "metadata": {
        "id": "Znh8IOXqIlj5"
      },
      "execution_count": null,
      "outputs": []
    },
    {
      "cell_type": "code",
      "source": [
        "file = open(\"my_file.txt\", \"w\")\n",
        "file.write(\"This is the string I want to write.\\n\")\n",
        "file.close()"
      ],
      "metadata": {
        "id": "fePbkJtuIn5a"
      },
      "execution_count": null,
      "outputs": []
    },
    {
      "cell_type": "markdown",
      "source": [
        "Write a Python program to read the contents of a file and print each line"
      ],
      "metadata": {
        "id": "YZaQNluSIqyL"
      }
    },
    {
      "cell_type": "code",
      "source": [
        "def read_and_print_file(filename):\n",
        "  \"\"\"Reads the contents of a file and prints each line.\n",
        "\n",
        "  Args:\n",
        "    filename: The name of the file to read.\n",
        "  \"\"\"\n",
        "  try:\n",
        "    with open(filename, 'r') as file:\n",
        "      for line in file:\n",
        "        print(line, end='')  # Print each line without an extra newline\n",
        "  except FileNotFoundError:\n",
        "    print(f\"Error: File '{filename}' not found.\")\n",
        "  except IOError:\n",
        "    print(f\"Error: Could not read file '{filename}'.\")\n",
        "\n",
        "# Get the filename from the user\n",
        "filename = input(\"Enter the filename: \")\n",
        "\n",
        "# Read and print the file contents\n",
        "read_and_print_file(filename)"
      ],
      "metadata": {
        "id": "8TGPT2ksIwvL"
      },
      "execution_count": null,
      "outputs": []
    },
    {
      "cell_type": "code",
      "source": [
        "This is the first line.\n",
        "This is the second line.\n",
        "This is the third line."
      ],
      "metadata": {
        "colab": {
          "base_uri": "https://localhost:8080/",
          "height": 106
        },
        "id": "xjjIW9UhI89f",
        "outputId": "c45d016d-753e-4432-ad78-2e472a6b7fe4"
      },
      "execution_count": null,
      "outputs": [
        {
          "output_type": "error",
          "ename": "SyntaxError",
          "evalue": "invalid syntax (<ipython-input-17-28791cd50cb2>, line 1)",
          "traceback": [
            "\u001b[0;36m  File \u001b[0;32m\"<ipython-input-17-28791cd50cb2>\"\u001b[0;36m, line \u001b[0;32m1\u001b[0m\n\u001b[0;31m    This is the first line.\u001b[0m\n\u001b[0m                ^\u001b[0m\n\u001b[0;31mSyntaxError\u001b[0m\u001b[0;31m:\u001b[0m invalid syntax\n"
          ]
        }
      ]
    },
    {
      "cell_type": "markdown",
      "source": [
        " How would you handle a case where the file doesn't exist while trying to open it for reading"
      ],
      "metadata": {
        "id": "A9pgUg7KJEPb"
      }
    },
    {
      "cell_type": "code",
      "source": [
        "def read_file(filename):\n",
        "  \"\"\"Reads the contents of a file and returns them as a string.\n",
        "\n",
        "  Args:\n",
        "    filename: The name of the file to read.\n",
        "\n",
        "  Returns:\n",
        "    The contents of the file as a string, or None if the file doesn't exist.\n",
        "  \"\"\"\n",
        "  try:\n",
        "    with open(filename, 'r') as file:\n",
        "      content = file.read()\n",
        "      return content\n",
        "  except FileNotFoundError:\n",
        "    print(f\"Error: File '{filename}' not found.\")\n",
        "    return None  # Or handle the error in a different way\n",
        "\n"
      ],
      "metadata": {
        "id": "dWObUPkcJJwu"
      },
      "execution_count": null,
      "outputs": []
    },
    {
      "cell_type": "markdown",
      "source": [
        "Write a Python script that reads from one file and writes its content to another file"
      ],
      "metadata": {
        "id": "L-JFJi8xJd-S"
      }
    },
    {
      "cell_type": "code",
      "source": [
        "def copy_file_content(source_file, destination_file):\n",
        "  \"\"\"Copies the content of one file to another.\n",
        "\n",
        "  Args:\n",
        "    source_file: The path to the source file.\n",
        "    destination_file: The path to the destination file.\n",
        "  \"\"\"\n",
        "  try:\n",
        "    with open(source_file, 'r') as source, open(destination_file, 'w') as destination:\n",
        "      for line in source:\n",
        "        destination.write(line)\n",
        "    print(f\"Content copied from '{source_file}' to '{destination_file}' successfully.\")\n",
        "  except FileNotFoundError:\n",
        "    print(f\"Error: Source file '{source_file}' not found.\")\n",
        "  except IOError:\n",
        "    print(f\"Error: Could not read or write files.\")\n",
        "\n",
        "# Get the source and destination file paths from the user\n",
        "source_file = input(\"Enter the source file path: \")"
      ],
      "metadata": {
        "id": "zYNsNjzrKJF8"
      },
      "execution_count": null,
      "outputs": []
    },
    {
      "cell_type": "markdown",
      "source": [
        " How would you catch and handle division by zero error in Python"
      ],
      "metadata": {
        "id": "4NgFYgMIjEFX"
      }
    },
    {
      "cell_type": "code",
      "source": [
        "try:\n",
        "    result = 10 / 0  # Potential ZeroDivisionError\n",
        "except ZeroDivisionError:\n",
        "    print(\"Error: Division by zero occurred\")\n",
        "    # Handle the error, e.g., assign a default value\n",
        "    result = 0\n",
        "\n",
        "print(\"Result:\", result) # Output: Result:0"
      ],
      "metadata": {
        "colab": {
          "base_uri": "https://localhost:8080/"
        },
        "id": "_Dayfu2YjHw6",
        "outputId": "a1570792-1e1d-4789-b229-56b85201d9ef"
      },
      "execution_count": 1,
      "outputs": [
        {
          "output_type": "stream",
          "name": "stdout",
          "text": [
            "Error: Division by zero occurred\n",
            "Result: 0\n"
          ]
        }
      ]
    },
    {
      "cell_type": "code",
      "source": [
        "numerator = 10\n",
        "denominator = 0\n",
        "\n",
        "if denominator != 0:\n",
        "    result = numerator / denominator\n",
        "else:\n",
        "    print(\"Error: Cannot divide by zero\")\n",
        "    result = 0  # Or any other desired handling\n",
        "\n",
        "print(\"Result:\", result) # Output: Result:0"
      ],
      "metadata": {
        "colab": {
          "base_uri": "https://localhost:8080/"
        },
        "id": "nzO5dHxAjK3S",
        "outputId": "5752d26b-4e58-49ec-f72a-b636bc06e394"
      },
      "execution_count": 2,
      "outputs": [
        {
          "output_type": "stream",
          "name": "stdout",
          "text": [
            "Error: Cannot divide by zero\n",
            "Result: 0\n"
          ]
        }
      ]
    },
    {
      "cell_type": "markdown",
      "source": [
        "Write a Python program that logs an error message to a log file when a division by zero exception occurs"
      ],
      "metadata": {
        "id": "SEdC3CtZjQhO"
      }
    },
    {
      "cell_type": "code",
      "source": [
        "import logging\n",
        "\n",
        "# Configure the logging system\n",
        "logging.basicConfig(filename='error.log', level=logging.ERROR,\n",
        "                    format='%(asctime)s - %(levelname)s - %(message)s')\n",
        "\n",
        "def divide(x, y):\n",
        "    try:\n",
        "        result = x / y\n",
        "        return result\n",
        "    except ZeroDivisionError:\n",
        "        logging.error(\"Division by zero occurred\")  # Log the error\n",
        "        return None  # Or handle the error differently\n",
        "\n",
        "\n",
        "# Example usage\n",
        "numerator = 10\n",
        "denominator = 0\n",
        "\n",
        "result = divide(numerator, denominator)\n",
        "\n",
        "if result is None:\n",
        "    print(\"Error occurred. Check the log file for details.\")\n",
        "else:\n",
        "    print(\"Result:\", result)"
      ],
      "metadata": {
        "colab": {
          "base_uri": "https://localhost:8080/"
        },
        "id": "rajUupzdjYkb",
        "outputId": "5ca4a0af-d3c1-4476-db90-5b49fb1135af"
      },
      "execution_count": 4,
      "outputs": [
        {
          "output_type": "stream",
          "name": "stderr",
          "text": [
            "ERROR:root:Division by zero occurred\n"
          ]
        },
        {
          "output_type": "stream",
          "name": "stdout",
          "text": [
            "Error occurred. Check the log file for details.\n"
          ]
        }
      ]
    },
    {
      "cell_type": "markdown",
      "source": [
        "How do you log information at different levels (INFO, ERROR, WARNING) in Python using the logging module"
      ],
      "metadata": {
        "id": "FjdD6PLQjf04"
      }
    },
    {
      "cell_type": "code",
      "source": [
        "import logging\n",
        "\n",
        "# Configure the logging system\n",
        "logging.basicConfig(filename='my_log.log', level=logging.DEBUG,\n",
        "                    format='%(asctime)s - %(levelname)s - %(message)s')\n",
        "\n",
        "# Create a logger object\n",
        "logger = logging.getLogger(__name__)\n",
        "\n",
        "# Log messages at different levels\n",
        "logger.debug('This is a debug message')\n",
        "logger.info('This is an info message')\n",
        "logger.warning('This is a warning message')\n",
        "logger.error('This is an error message')\n",
        "logger.critical('This is a critical message')"
      ],
      "metadata": {
        "colab": {
          "base_uri": "https://localhost:8080/"
        },
        "id": "fpo6wRCPjll-",
        "outputId": "c2f71330-231a-46dd-d358-6e2d6dd7d8d3"
      },
      "execution_count": 5,
      "outputs": [
        {
          "output_type": "stream",
          "name": "stderr",
          "text": [
            "WARNING:__main__:This is a warning message\n",
            "ERROR:__main__:This is an error message\n",
            "CRITICAL:__main__:This is a critical message\n"
          ]
        }
      ]
    },
    {
      "cell_type": "markdown",
      "source": [
        "Write a program to handle a file opening error using exception handling"
      ],
      "metadata": {
        "id": "aKxU4UHJlFHs"
      }
    },
    {
      "cell_type": "code",
      "source": [
        "def read_file(filename):\n",
        "    try:\n",
        "        with open(filename, 'r') as file:\n",
        "            content = file.read()\n",
        "            print(\"File content:\")\n",
        "            print(content)\n",
        "    except FileNotFoundError:\n",
        "        print(f\"Error: File '{filename}' not found.\")\n",
        "    except IOError as e:\n",
        "        print(f\"Error opening file: {e}\")\n",
        "\n",
        "# Get filename from the user\n",
        "filename = input(\"Enter the filename: \")\n",
        "\n",
        "# Call the function to read the file\n",
        "read_file(filename)"
      ],
      "metadata": {
        "id": "OkLtUC_OlLDK"
      },
      "execution_count": null,
      "outputs": []
    },
    {
      "cell_type": "markdown",
      "source": [
        "How can you read a file line by line and store its content in a list in Python"
      ],
      "metadata": {
        "id": "2zcILZ0slb3G"
      }
    },
    {
      "cell_type": "code",
      "source": [
        "def read_file_to_list(filename):\n",
        "  \"\"\"Reads a file and stores its lines in a list.\n",
        "\n",
        "  Args:\n",
        "    filename: The name of the file to read.\n",
        "\n",
        "  Returns:\n",
        "    A list containing each line of the file as a separate element.\n",
        "  \"\"\"\n",
        "  try:\n",
        "    with open(filename, 'r') as file:\n",
        "      lines = file.readlines()  # Read all lines into a list\n",
        "      return lines\n",
        "  except FileNotFoundError:\n",
        "    print(f\"Error: File '{filename}' not found.\")\n",
        "    return []  # Return an empty list if file not found\n",
        "  except IOError as e:\n",
        "    print(f\"Error opening file: {e}\")\n",
        "    return []\n",
        "\n",
        "# Example usage\n",
        "filename = \"my_file.txt\"\n",
        "file_content = read_file_to_list(filename)\n",
        "\n",
        "if file_content:\n",
        "  print(\"File content:\")\n",
        "  for line in file_content:\n",
        "    print(line, end=\"\")  # Print each line without an extra newline"
      ],
      "metadata": {
        "id": "ShEgy21Tlh4B"
      },
      "execution_count": null,
      "outputs": []
    },
    {
      "cell_type": "code",
      "source": [
        "def read_file_to_list(filename):\n",
        "  \"\"\"Reads a file and stores its lines in a list.\n",
        "\n",
        "  Args:\n",
        "    filename: The name of the file to read.\n",
        "\n",
        "  Returns:\n",
        "    A list containing each line of the file as a separate element.\n",
        "  \"\"\"\n",
        "  try:\n",
        "    with open(filename, 'r') as file:\n",
        "      lines = [line.strip() for line in file]  # Read lines and strip newline characters\n",
        "      return lines\n",
        "  except FileNotFoundError:\n",
        "    print(f\"Error: File '{filename}' not found.\")\n",
        "    return []  # Return an empty list if file not found\n",
        "  except IOError as e:\n",
        "    print(f\"Error opening file: {e}\")\n",
        "    return []\n",
        "\n",
        "# Example usage\n",
        "filename = \"my_file.txt\"\n",
        "file_content = read_file_to_list(filename)\n",
        "\n",
        "if file_content:\n",
        "  print(\"File content:\")\n",
        "  for line in file_content:\n",
        "    print(line)"
      ],
      "metadata": {
        "id": "dtd0oLKxloD1"
      },
      "execution_count": null,
      "outputs": []
    },
    {
      "cell_type": "markdown",
      "source": [
        "How can you append data to an existing file in Python"
      ],
      "metadata": {
        "id": "7ytzBlwylsmV"
      }
    },
    {
      "cell_type": "code",
      "source": [
        "def append_to_file(filename, data):\n",
        "  \"\"\"Appends data to an existing file.\n",
        "\n",
        "  Args:\n",
        "    filename: The name of the file to append to.\n",
        "    data: The data to append to the file.\n",
        "  \"\"\"\n",
        "  try:\n",
        "    with open(filename, 'a') as file:  # Open in append mode ('a')\n",
        "      file.write(data)  # Write the data\n",
        "    print(f\"Data appended to '{filename}' successfully.\")\n",
        "  except FileNotFoundError:\n",
        "    print(f\"Error: File '{filename}' not found.\")\n",
        "  except IOError as e:\n",
        "    print(f\"Error appending to file: {e}\")\n",
        "\n",
        "# Example usage\n",
        "filename = \"my_file.txt\"\n",
        "data_to_append = \"\\nThis is new data to append.\"\n",
        "\n",
        "append_to_file(filename, data_to_append)"
      ],
      "metadata": {
        "id": "5WOz3UWBlzwm"
      },
      "execution_count": null,
      "outputs": []
    },
    {
      "cell_type": "markdown",
      "source": [
        " Write a Python program that uses a try-except block to handle an error when attempting to access a\n",
        "dictionary key that doesn't exist"
      ],
      "metadata": {
        "id": "02CsYNDxl5vA"
      }
    },
    {
      "cell_type": "code",
      "source": [
        "def access_dictionary_key(dictionary, key):\n",
        "  \"\"\"Accesses a dictionary key and handles KeyError.\n",
        "\n",
        "  Args:\n",
        "    dictionary: The dictionary to access.\n",
        "    key: The key to access.\n",
        "\n",
        "  Returns:\n",
        "    The value associated with the key if it exists, otherwise None.\n",
        "  \"\"\"\n",
        "  try:\n",
        "    value = dictionary[key]  # Attempt to access the key\n",
        "    return value\n",
        "  except KeyError:\n",
        "    print(f\"Error: Key '{key}' not found in the dictionary.\")\n",
        "    return None  # Or handle the error differently\n",
        "\n",
        "\n",
        "# Example usage\n",
        "my_dict = {'a': 1, 'b': 2, 'c': 3}\n",
        "key_to_access = 'd'  # This key doesn't exist\n",
        "\n",
        "value = access_dictionary_key(my_dict, key"
      ],
      "metadata": {
        "id": "2rZJ5RaVmCMQ"
      },
      "execution_count": null,
      "outputs": []
    },
    {
      "cell_type": "markdown",
      "source": [
        "Write a program that demonstrates using multiple except blocks to handle different types of exceptions"
      ],
      "metadata": {
        "id": "JRbscCQ7mGPp"
      }
    },
    {
      "cell_type": "code",
      "source": [
        "def handle_exceptions(x, y):\n",
        "  \"\"\"Demonstrates handling multiple exception types.\n",
        "\n",
        "  Args:\n",
        "    x: The numerator.\n",
        "    y: The denominator.\n",
        "  \"\"\"\n",
        "  try:\n",
        "    result = x / y  # Potential ZeroDivisionError\n",
        "    print(f\"Result: {result}\")\n",
        "\n",
        "    value = int(\"abc\")  # Potential ValueError\n",
        "    print(f\"Value: {value}\")\n",
        "\n",
        "  except ZeroDivisionError:\n",
        "    print(\"Error: Division by zero occurred.\")\n",
        "  except ValueError:\n",
        "    print(\"Error: Invalid value for integer conversion.\")\n",
        "  except Exception as e:  # Catch-all for other exceptions\n",
        "    print(f\"An unexpected error occurred: {e}\")\n",
        "\n",
        "# Example usage\n",
        "handle_exceptions(10, 0)  # Will raise ZeroDivisionError\n",
        "handle_exceptions(10, 2)  # Will raise ValueError after successful division\n",
        "handle_exceptions(\"a\", 2)  # Will raise TypeError (caught by the generic Exception)"
      ],
      "metadata": {
        "id": "F5rIx7tHmSWD"
      },
      "execution_count": null,
      "outputs": []
    },
    {
      "cell_type": "markdown",
      "source": [
        "How would you check if a file exists before attempting to read it in Python"
      ],
      "metadata": {
        "id": "FOaPQ7ZEmj4d"
      }
    },
    {
      "cell_type": "code",
      "source": [
        "import os\n",
        "\n",
        "def read_file_if_exists(filename):\n",
        "  \"\"\"Reads a file if it exists.\n",
        "\n",
        "  Args:\n",
        "    filename: The name of the file to read.\n",
        "\n",
        "  Returns:\n",
        "    The contents of the file as a string, or None if the file doesn't exist.\n",
        "  \"\"\"\n",
        "  if os.path.exists(filename):  # Check if file exists\n",
        "    try:\n",
        "      with open(filename, 'r') as file:\n",
        "        content = file.read()\n",
        "        return content\n",
        "    except IOError as e:\n",
        "      print(f\"Error reading file: {e}\")\n",
        "      return None\n",
        "  else:\n",
        "    print(f\"File '{filename}' does not exist.\")\n",
        "    return None\n",
        "\n",
        "# Example usage\n",
        "filename = \"my_file.txt\"\n",
        "file_content = read_file_if_exists(filename)\n",
        "\n",
        "if file_content:\n",
        "  print(\"File content:\")\n",
        "  print(file_content)"
      ],
      "metadata": {
        "id": "aNUuaIoqmm02"
      },
      "execution_count": null,
      "outputs": []
    },
    {
      "cell_type": "code",
      "source": [
        "from pathlib import Path\n",
        "\n",
        "file_path = Path(\"my_file.txt\")\n",
        "\n",
        "if file_path.is_file():\n",
        "  # File exists, proceed with reading\n",
        "  with open(file_path, 'r') as file:\n",
        "    content = file.read()\n",
        "    # ... process content ...\n",
        "else:\n",
        "  print(f\"File '{file_path}' does not exist.\")"
      ],
      "metadata": {
        "id": "C_0sBv32m16B"
      },
      "execution_count": null,
      "outputs": []
    },
    {
      "cell_type": "markdown",
      "source": [
        "Write a program that uses the logging module to log both informational and error messages"
      ],
      "metadata": {
        "id": "6l3_E-C4m6cK"
      }
    },
    {
      "cell_type": "code",
      "source": [
        "import logging\n",
        "\n",
        "# Configure the logging system\n",
        "logging.basicConfig(filename='my_log.log', level=logging.INFO,\n",
        "                    format='%(asctime)s - %(levelname)s - %(message)s')\n",
        "\n",
        "def my_function(x, y):\n",
        "  \"\"\"Demonstrates logging informational and error messages.\n",
        "\n",
        "  Args:\n",
        "    x: The first number.\n",
        "    y: The second number.\n",
        "  \"\"\"\n",
        "  logging.info(f\"Starting calculation with x={x}, y={y}\")\n",
        "\n",
        "  try:\n",
        "    result = x / y\n",
        "    logging.info(f\"Calculation successful: {x}/{y} = {result}\")\n",
        "  except ZeroDivisionError:\n",
        "    logging.error(\"Error: Division by zero occurred.\")\n",
        "\n",
        "\n",
        "# Example usage\n",
        "my_function(10, 2)\n",
        "my_function(10, 0)"
      ],
      "metadata": {
        "id": "cDF6oHZAnJ_h"
      },
      "execution_count": null,
      "outputs": []
    },
    {
      "cell_type": "markdown",
      "source": [
        "Write a Python program that prints the content of a file and handles the case when the file is empty"
      ],
      "metadata": {
        "id": "YxDfZvSPnTDU"
      }
    },
    {
      "cell_type": "code",
      "source": [
        "def print_file_content(filename):\n",
        "    \"\"\"Prints the content of a file, handling empty files.\n",
        "\n",
        "    Args:\n",
        "        filename: The name of the file to read.\n",
        "    \"\"\"\n",
        "    try:\n",
        "        with open(filename, 'r') as file:\n",
        "            content = file.read()\n",
        "            if content:  # Check if the content is not empty\n",
        "                print(\"File content:\")\n",
        "                print(content)\n",
        "            else:\n",
        "                print(f\"File '{filename}' is empty.\")\n",
        "    except FileNotFoundError:\n",
        "        print(f\"Error: File '{filename}' not found.\")\n",
        "    except IOError as e:\n",
        "        print(f\"Error reading file: {e}\")\n",
        "\n",
        "# Example usage\n",
        "filename = \"my_file.txt\"  # Replace with your filename\n",
        "print_file_content(filename)"
      ],
      "metadata": {
        "id": "g6VEUsvWnUdT"
      },
      "execution_count": null,
      "outputs": []
    },
    {
      "cell_type": "markdown",
      "source": [
        "Demonstrate how to use memory profiling to check the memory usage of a small program"
      ],
      "metadata": {
        "id": "K3UFHmZvnc52"
      }
    },
    {
      "cell_type": "code",
      "source": [
        "!pip install memory_profiler==0.61.0"
      ],
      "metadata": {
        "id": "H19Xw1snnkup"
      },
      "execution_count": null,
      "outputs": []
    },
    {
      "cell_type": "code",
      "source": [
        "import time\n",
        "\n",
        "def my_function():\n",
        "  a = [1] * (10 ** 6)  # Create a large list\n",
        "  b = [2] * (2 * 10 ** 7)  # Create an even larger list\n",
        "  time.sleep(1) # Simulate some task that takes time.\n",
        "  del b  # Delete to observe memory deallocation\n",
        "  return a\n",
        "\n",
        "if __name__ == \"__main__\":\n",
        "  my_function()"
      ],
      "metadata": {
        "id": "E-v_Wi6CnnVS"
      },
      "execution_count": null,
      "outputs": []
    },
    {
      "cell_type": "code",
      "source": [
        "%load_ext memory_profiler\n",
        "%memit my_program.py"
      ],
      "metadata": {
        "id": "LBSvbMfNnqOS"
      },
      "execution_count": null,
      "outputs": []
    },
    {
      "cell_type": "markdown",
      "source": [
        "Write a Python program to create and write a list of numbers to a file, one number per line"
      ],
      "metadata": {
        "id": "6nvbg-vvnw4T"
      }
    },
    {
      "cell_type": "code",
      "source": [
        "import random\n",
        "\n",
        "def write_numbers_to_file(filename, num_numbers):\n",
        "    \"\"\"Creates a list of random numbers and writes them to a file.\n",
        "\n",
        "    Args:\n",
        "        filename: The name of the file to write to.\n",
        "        num_numbers: The number of random numbers to generate.\n",
        "    \"\"\"\n",
        "    try:\n",
        "        with open(filename, 'w') as file:  # Open file in write mode ('w')\n",
        "            numbers = [random.randint(1, 100) for _ in range(num_numbers)]\n",
        "            for number in numbers:\n",
        "                file.write(str(number) + '\\n')  # Write each number on a new line\n",
        "        print(f\"{num_numbers} numbers written to '{filename}' successfully.\")\n",
        "    except IOError as e:\n",
        "        print(f\"Error writing to file: {e}\")\n",
        "\n",
        "# Example usage\n",
        "filename"
      ],
      "metadata": {
        "id": "7bz6giy4n11K"
      },
      "execution_count": null,
      "outputs": []
    },
    {
      "cell_type": "markdown",
      "source": [
        " How would you implement a basic logging setup that logs to a file with rotation after 1MB"
      ],
      "metadata": {
        "id": "qjMmeZ31n7B9"
      }
    },
    {
      "cell_type": "code",
      "source": [
        "import logging\n",
        "from logging.handlers import RotatingFileHandler\n",
        "\n",
        "def setup_logging():\n",
        "  \"\"\"Sets up logging to a file with rotation.\"\"\"\n",
        "\n",
        "  # Create logger\n",
        "  logger = logging.getLogger(__name__)\n",
        "  logger.setLevel(logging.DEBUG)  # Set desired logging level\n",
        "\n",
        "  # Create RotatingFileHandler\n",
        "  handler = RotatingFileHandler('my_log.log', maxBytes=1024 * 1024, backupCount=5)  # 1MB, 5 backups\n",
        "  handler.setLevel(logging.DEBUG)  # Set desired logging level for the handler\n",
        "\n",
        "  # Create formatter and add it to the handler\n",
        "  formatter = logging.Formatter('%(asctime)s - %(levelname)s - %(message)s')\n",
        "  handler.setFormatter(formatter)\n",
        "\n",
        "  # Add handler to the logger"
      ],
      "metadata": {
        "id": "ELH7KUApn_N-"
      },
      "execution_count": null,
      "outputs": []
    },
    {
      "cell_type": "markdown",
      "source": [
        "Write a program that handles both IndexError and KeyError using a try-except block"
      ],
      "metadata": {
        "id": "t7Z7NFUkoFGy"
      }
    },
    {
      "cell_type": "code",
      "source": [
        "def handle_errors(data):\n",
        "    \"\"\"Demonstrates handling IndexError and KeyError.\n",
        "\n",
        "    Args:\n",
        "        data: A dictionary or list to access.\n",
        "    \"\"\"\n",
        "    try:\n",
        "        # Attempt to access elements that might raise errors\n",
        "        item1 = data[3]  # Potential IndexError (list or dictionary)\n",
        "        item2 = data['key']  # Potential KeyError (dictionary)\n",
        "\n",
        "        print(f\"Item 1: {item1}, Item 2: {item2}\")\n",
        "    except IndexError:\n",
        "        print(\"Error: Index out of range.\")\n",
        "    except KeyError:\n",
        "        print(\"Error: Key not found in dictionary.\")\n",
        "    except TypeError:\n",
        "        print(\"Error: Invalid data type for accessing elements.\")\n",
        "\n",
        "\n",
        "# Example usage with a list\n",
        "my_list = [1, 2, 3]\n",
        "handle_errors(my_list)  # Will raise IndexError\n",
        "\n",
        "# Example usage with a dictionary\n",
        "my_dict = {'a': 1, 'b': 2, 'c': 3}\n",
        "handle_errors(my_dict)  # Will raise KeyError (for 'key')"
      ],
      "metadata": {
        "id": "KU9Lvpr6otCz"
      },
      "execution_count": null,
      "outputs": []
    },
    {
      "cell_type": "markdown",
      "source": [
        "How would you open a file and read its contents using a context manager in Python"
      ],
      "metadata": {
        "id": "RyOWXBrwoQbV"
      }
    },
    {
      "cell_type": "code",
      "source": [
        "def read_file_with_context_manager(filename):\n",
        "  \"\"\"Reads the contents of a file using a context manager.\n",
        "\n",
        "  Args:\n",
        "    filename: The name of the file to read.\n",
        "\n",
        "  Returns:\n",
        "    The contents of the file as a string, or None if an error occurs.\n",
        "  \"\"\"\n",
        "  try:\n",
        "    with open(filename, 'r') as file:  # Open file in read mode ('r')\n",
        "      content = file.read()  # Read the entire file content\n",
        "      return content\n",
        "  except FileNotFoundError:\n",
        "    print(f\"Error: File '{filename}' not found.\")\n",
        "    return None\n",
        "  except IOError as e:\n",
        "    print(f\"Error reading file: {e}\")\n",
        "    return None\n",
        "\n",
        "# Example usage\n",
        "filename = \"my_file.txt\"\n",
        "file_content = read_file_with_context_manager(filename)\n",
        "\n",
        "if file_content:\n",
        "  print(\"File content:\")\n",
        "  print(file_content)"
      ],
      "metadata": {
        "id": "YKppKjfOob_x"
      },
      "execution_count": null,
      "outputs": []
    },
    {
      "cell_type": "markdown",
      "source": [
        "Write a Python program that reads a file and prints the number of occurrences of a specific word"
      ],
      "metadata": {
        "id": "dFLRFkXVo1et"
      }
    },
    {
      "cell_type": "code",
      "source": [
        "import re\n",
        "\n",
        "def count_word_occurrences(filename, word):\n",
        "  \"\"\"Counts the occurrences of a specific word in a file.\n",
        "\n",
        "  Args:\n",
        "    filename: The name of the file to read.\n",
        "    word: The word to count.\n",
        "\n",
        "  Returns:\n",
        "    The number of occurrences of the word in the file.\n",
        "  \"\"\"\n",
        "  try:\n",
        "    with open(filename, 'r') as file:\n",
        "      content = file.read()\n",
        "      # Use regular expression to find all occurrences of the word (case-insensitive)\n",
        "      occurrences = len(re.findall(r'\\b' + word + r'\\b', content, re.IGNORECASE))\n",
        "      return occurrences\n",
        "  except FileNotFoundError:\n",
        "    print(f\"Error: File '{filename}' not found.\")\n",
        "    return 0\n",
        "  except IOError as e:\n",
        "    print(f\"Error reading file: {e}\")\n",
        "    return 0\n",
        "\n",
        "# Example usage\n",
        "filename = \"my_file.txt\"\n",
        "word_to_count = \"example\"\n",
        "\n",
        "count = count_word_occurrences(filename, word_to_count)\n",
        "print(f\"The word '{word_to_count}' appears {count} times in the file.\")"
      ],
      "metadata": {
        "id": "XVIi8Lyro3wJ"
      },
      "execution_count": null,
      "outputs": []
    },
    {
      "cell_type": "markdown",
      "source": [
        "How can you check if a file is empty before attempting to read its contents"
      ],
      "metadata": {
        "id": "QbyIdsNUpAek"
      }
    },
    {
      "cell_type": "code",
      "source": [
        "import os\n",
        "\n",
        "def is_file_empty(filename):\n",
        "  \"\"\"Checks if a file is empty.\n",
        "\n",
        "  Args:\n",
        "    filename: The name of the file to check.\n",
        "\n",
        "  Returns:\n",
        "    True if the file is empty, False otherwise.\n",
        "  \"\"\"\n",
        "  try:\n",
        "    return os.stat(filename).st_size == 0  # Check file size\n",
        "  except OSError:\n",
        "    # Handle the case where the file doesn't exist or is inaccessible\n",
        "    print(f\"Error accessing file: {filename}\")\n",
        "    return False  # Or handle differently based on your needs\n",
        "\n",
        "\n",
        "# Example usage\n",
        "filename = \"my_file.txt\"\n",
        "\n",
        "if is_file_empty(filename):\n",
        "  print(f\"File '{filename}' is empty.\")\n",
        "else:\n",
        "  # Proceed with reading the file contents\n",
        "  with open(filename, 'r') as file:\n",
        "    content = file.read()\n",
        "    # ... process content ..."
      ],
      "metadata": {
        "id": "knxgFHcZpE56"
      },
      "execution_count": null,
      "outputs": []
    },
    {
      "cell_type": "code",
      "source": [
        "from pathlib import Path\n",
        "\n",
        "file_path = Path(\"my_file.txt\")\n",
        "\n",
        "if file_path.is_file() and file_path.stat().st_size == 0:\n",
        "  print(f\"File '{file_path}' is empty.\")\n",
        "else:\n",
        "  # Proceed with reading the file contents\n",
        "  with open(file_path, 'r') as file:\n",
        "    content = file.read()\n",
        "    # ... process content ..."
      ],
      "metadata": {
        "id": "427rttvjpMJ7"
      },
      "execution_count": null,
      "outputs": []
    },
    {
      "cell_type": "code",
      "source": [
        "from pathlib import Path\n",
        "\n",
        "file_path = Path(\"my_file.txt\")\n",
        "\n",
        "if file_path.is_file() and file_path.stat().st_size == 0:\n",
        "  print(f\"File '{file_path}' is empty.\")\n",
        "else:\n",
        "  # Proceed with reading the file contents\n",
        "  with open(file_path, 'r') as file:\n",
        "    content = file.read()\n",
        "    # ... process content ..."
      ],
      "metadata": {
        "id": "HOSQQ2IRpKlN"
      },
      "execution_count": null,
      "outputs": []
    },
    {
      "cell_type": "markdown",
      "source": [
        "Write a Python program that writes to a log file when an error occurs during file handling"
      ],
      "metadata": {
        "id": "6uEZ0vZJpVpR"
      }
    },
    {
      "cell_type": "code",
      "source": [
        "import logging\n",
        "\n",
        "def process_file(filename):\n",
        "    \"\"\"Processes a file and logs errors if they occur.\n",
        "\n",
        "    Args:\n",
        "        filename: The name of the file to process.\n",
        "    \"\"\"\n",
        "\n",
        "    # Configure logging\n",
        "    logging.basicConfig(filename='file_handling_errors.log', level=logging.ERROR,\n",
        "                        format='%(asctime)s - %(levelname)s - %(message)s')\n",
        "\n",
        "    try:\n",
        "        with open(filename, 'r') as file:\n",
        "            # Perform file operations here\n",
        "            content = file.read()\n",
        "            # ... (process content) ...\n",
        "    except FileNotFoundError:\n",
        "        logging.error(f\"File not found: {filename}\")\n",
        "    except IOError as e:\n",
        "        logging.error(f\"Error during file handling: {e}\")\n",
        "\n",
        "# Example usage\n",
        "filename = \"my_file.txt\"  # Replace with your filename\n",
        "process_file(filename)"
      ],
      "metadata": {
        "id": "l7rZPU2GpXYp"
      },
      "execution_count": null,
      "outputs": []
    }
  ]
}